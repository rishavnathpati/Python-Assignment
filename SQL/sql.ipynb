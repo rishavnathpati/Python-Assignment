{
 "metadata": {
  "language_info": {
   "codemirror_mode": {
    "name": "ipython",
    "version": 3
   },
   "file_extension": ".py",
   "mimetype": "text/x-python",
   "name": "python",
   "nbconvert_exporter": "python",
   "pygments_lexer": "ipython3",
   "version": "3.8.6-final"
  },
  "orig_nbformat": 2,
  "kernelspec": {
   "name": "python3",
   "display_name": "Python 3.8.6 32-bit",
   "metadata": {
    "interpreter": {
     "hash": "45272155c84291ea085b4e956b44cb7e43308695b2e02262570cae1f56356847"
    }
   }
  }
 },
 "nbformat": 4,
 "nbformat_minor": 2,
 "cells": [
  {
   "cell_type": "code",
   "execution_count": 102,
   "metadata": {},
   "outputs": [],
   "source": [
    "class Person:\n",
    "    def __init__(self, fname, lname):\n",
    "        self.firstname = fname\n",
    "        self.lastname = lname\n",
    "        print(\"P\")\n",
    "\n",
    "    def printname(self):\n",
    "        print(self.firstname, self.lastname)\n"
   ]
  },
  {
   "cell_type": "code",
   "execution_count": 103,
   "metadata": {},
   "outputs": [],
   "source": [
    "class Section():\n",
    "    def __init__(self, section):\n",
    "        self.section = section\n",
    "        print(\"Sec\")\n",
    "\n",
    "    def printsection(self):\n",
    "        print(self.section)"
   ]
  },
  {
   "cell_type": "code",
   "execution_count": 104,
   "metadata": {},
   "outputs": [],
   "source": [
    "class Friends():\n",
    "    def friendlist(nfrnds,*goodfriends):\n",
    "        print(\"Number of friends: \",nfrnds)\n",
    "        for frnds in (goodfriends):\n",
    "            print(frnds)"
   ]
  },
  {
   "cell_type": "code",
   "execution_count": 105,
   "metadata": {},
   "outputs": [],
   "source": [
    "class Student(Section, Person,Friends):\n",
    "    def __init__(self, fname, lname, sec,frndlst):\n",
    "        self.firstname = fname\n",
    "        self.lastname = lname\n",
    "        self.sec1 = sec\n",
    "        print(\"S\")\n",
    "        super().__init__(sec)\n",
    "        Person.__init__(self, fname, lname)\n",
    "        Friends.friendlist(5,frndlst[0],frndlst[1],frndlst[2:])\n",
    "        # printname(self)\n",
    "\n",
    "    def printfirst(self):\n",
    "        print(self.firstname)\n",
    "        Person.printname(self)"
   ]
  },
  {
   "cell_type": "code",
   "execution_count": 106,
   "metadata": {},
   "outputs": [
    {
     "output_type": "stream",
     "name": "stdout",
     "text": [
      "P\nJohn Doe\nS\nSec\nP\nNumber of friends:  5\nHari\nOm\n['Ramu', 'Kaka']\nMike Olsen\nMike\nMike Olsen\nA\n"
     ]
    }
   ],
   "source": [
    "x = Person(\"John\", \"Doe\")\n",
    "x.printname()\n",
    "frndlist=[\"Hari\",\"Om\",\"Ramu\",\"Kaka\"]\n",
    "x = Student(\"Mike\", \"Olsen\", \"A\",frndlist)\n",
    "x.printname()\n",
    "x.printfirst()\n",
    "x.printsection()"
   ]
  },
  {
   "cell_type": "code",
   "execution_count": 107,
   "metadata": {},
   "outputs": [
    {
     "output_type": "stream",
     "name": "stdout",
     "text": [
      "args:  ('Hello', 'Hulo')\nkwargs:  {'first': 'Geeks', 'mid': 'for', 'last': 'Geeks'}\narg1:  ('Hello', 'Hulo')\n"
     ]
    }
   ],
   "source": [
    "def myFun(*args,**kwargs):\n",
    "    print(\"args: \", args)\n",
    "    print(\"kwargs: \", kwargs)\n",
    "    print(\"arg1: \", args)\n",
    "    \n",
    "# Now we can use both *args ,**kwargs \n",
    "# to pass arguments to this function :\n",
    "myFun('Hello',\"Hulo\",first=\"Geeks\",mid=\"for\",last=\"Geeks\") "
   ]
  },
  {
   "cell_type": "code",
   "execution_count": null,
   "metadata": {},
   "outputs": [],
   "source": []
  },
  {
   "cell_type": "code",
   "execution_count": null,
   "metadata": {},
   "outputs": [],
   "source": []
  },
  {
   "cell_type": "code",
   "execution_count": null,
   "metadata": {},
   "outputs": [],
   "source": []
  },
  {
   "cell_type": "code",
   "execution_count": null,
   "metadata": {},
   "outputs": [],
   "source": []
  },
  {
   "cell_type": "code",
   "execution_count": null,
   "metadata": {},
   "outputs": [],
   "source": []
  },
  {
   "cell_type": "code",
   "execution_count": 108,
   "metadata": {},
   "outputs": [
    {
     "output_type": "error",
     "ename": "NameError",
     "evalue": "name 'system' is not defined",
     "traceback": [
      "\u001b[1;31m---------------------------------------------------------------------------\u001b[0m",
      "\u001b[1;31mNameError\u001b[0m                                 Traceback (most recent call last)",
      "\u001b[1;32m<ipython-input-108-7c1ca12f2465>\u001b[0m in \u001b[0;36m<module>\u001b[1;34m\u001b[0m\n\u001b[1;32m----> 1\u001b[1;33m \u001b[0msystem\u001b[0m\u001b[1;33m.\u001b[0m\u001b[0mexit\u001b[0m\u001b[1;33m(\u001b[0m\u001b[1;36m0\u001b[0m\u001b[1;33m)\u001b[0m\u001b[1;33m\u001b[0m\u001b[1;33m\u001b[0m\u001b[0m\n\u001b[0m",
      "\u001b[1;31mNameError\u001b[0m: name 'system' is not defined"
     ]
    }
   ],
   "source": [
    "system.exit(0)"
   ]
  },
  {
   "cell_type": "code",
   "execution_count": null,
   "metadata": {},
   "outputs": [],
   "source": [
    "import sqlite3 \n",
    "\n",
    "# connecting to the database \n",
    "connection = sqlite3.connect(\"myTable.db\") \n",
    "\n",
    "# cursor \n",
    "crsr = connection.cursor() \n",
    "\n",
    "# SQL command to create a table in the database \n",
    "sql_command = \"\"\"CREATE TABLE emp ( \n",
    "staff_number INTEGER PRIMARY KEY, \n",
    "fname VARCHAR(20), \n",
    "lname VARCHAR(30), \n",
    "gender CHAR(1), \n",
    "joining DATE);\"\"\"\n",
    "\n",
    "# execute the statement \n",
    "crsr.execute(sql_command) \n",
    "\n",
    "# SQL command to insert the data in the table \n",
    "sql_command = \"\"\"INSERT INTO emp VALUES (23, \"Rishabh\", \"Bansal\", \"M\", \"2014-03-28\");\"\"\"\n",
    "crsr.execute(sql_command) \n",
    "\n",
    "# another SQL command to insert the data in the table \n",
    "sql_command = \"\"\"INSERT INTO emp VALUES (1, \"Bill\", \"Gates\", \"M\", \"1980-10-28\");\"\"\"\n",
    "crsr.execute(sql_command) \n",
    "\n",
    "# To save the changes in the files. Never skip this. \n",
    "# If we skip this, nothing will be saved in the database. \n",
    "connection.commit() \n",
    "\n",
    "crsr = connection.cursor()"
   ]
  },
  {
   "cell_type": "code",
   "execution_count": null,
   "metadata": {},
   "outputs": [],
   "source": [
    "# execute the command to fetch all the data from the table emp \n",
    "crsr.execute(\"SELECT * FROM emp\") \n",
    "\n",
    "# store all the fetched data in the ans variable \n",
    "ans = crsr.fetchall() \n",
    "\n",
    "# Since we have already selected all the data entries \n",
    "# using the \"SELECT *\" SQL command and stored them in \n",
    "# the ans variable, all we need to do now is to print \n",
    "# out the ans variable \n",
    "print(ans[0])"
   ]
  },
  {
   "cell_type": "code",
   "execution_count": null,
   "metadata": {},
   "outputs": [],
   "source": [
    "5"
   ]
  },
  {
   "cell_type": "code",
   "execution_count": 63,
   "metadata": {},
   "outputs": [
    {
     "output_type": "stream",
     "name": "stdout",
     "text": [
      "[' abc@gmail.com', ' rnp_120.abc@gmail.com', ' rnp.rnp@gm.com']\n"
     ]
    }
   ],
   "source": [
    "import re\n",
    "strng=\"abc@gmail.com Rnpuytr@rediff.com rnp_120.abc@gmail.com rnp.rnp@gm.com\"\n",
    "phnno=\"9876543210 0123456789 0099887766, 1122334455, 3344556677\"\n",
    "a=re.compile(r\"[a-z\\d\\._]+@\\w+\\.com\")\n",
    "print(a.findall(strng))\n"
   ]
  },
  {
   "cell_type": "code",
   "execution_count": null,
   "metadata": {},
   "outputs": [],
   "source": []
  }
 ]
}